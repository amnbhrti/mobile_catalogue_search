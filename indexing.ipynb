{
 "cells": [
  {
   "cell_type": "code",
   "execution_count": 1,
   "metadata": {},
   "outputs": [],
   "source": [
    "from elasticsearch import Elasticsearch"
   ]
  },
  {
   "cell_type": "code",
   "execution_count": 8,
   "metadata": {},
   "outputs": [
    {
     "data": {
      "text/plain": [
       "True"
      ]
     },
     "execution_count": 8,
     "metadata": {},
     "output_type": "execute_result"
    }
   ],
   "source": [
    "es = Elasticsearch(\n",
    "    \"http://localhost:9200\",\n",
    "    basic_auth=(\"elastic\",\"OHepg_t_GvCiz3LGURxB\")\n",
    ")\n",
    "\n",
    "es.ping()"
   ]
  },
  {
   "cell_type": "code",
   "execution_count": 9,
   "metadata": {},
   "outputs": [
    {
     "data": {
      "text/html": [
       "<div>\n",
       "<style scoped>\n",
       "    .dataframe tbody tr th:only-of-type {\n",
       "        vertical-align: middle;\n",
       "    }\n",
       "\n",
       "    .dataframe tbody tr th {\n",
       "        vertical-align: top;\n",
       "    }\n",
       "\n",
       "    .dataframe thead th {\n",
       "        text-align: right;\n",
       "    }\n",
       "</style>\n",
       "<table border=\"1\" class=\"dataframe\">\n",
       "  <thead>\n",
       "    <tr style=\"text-align: right;\">\n",
       "      <th></th>\n",
       "      <th>SL no</th>\n",
       "      <th>Product_Name</th>\n",
       "      <th>Product_Prices</th>\n",
       "      <th>Product Descriptation</th>\n",
       "      <th>Product_Review</th>\n",
       "    </tr>\n",
       "  </thead>\n",
       "  <tbody>\n",
       "    <tr>\n",
       "      <th>0</th>\n",
       "      <td>0</td>\n",
       "      <td>OnePlus 11R 5G (Sonic Black, 256 GB)</td>\n",
       "      <td>37990</td>\n",
       "      <td>16 GB RAM | 256 GB ROM17.02 cm (6.7 inch) Disp...</td>\n",
       "      <td>4.5</td>\n",
       "    </tr>\n",
       "    <tr>\n",
       "      <th>1</th>\n",
       "      <td>1</td>\n",
       "      <td>OnePlus 12R (Cool Blue, 256 GB)</td>\n",
       "      <td>45280</td>\n",
       "      <td>16 GB RAM | 256 GB ROM17.22 cm (6.78 inch) Dis...</td>\n",
       "      <td>4.5</td>\n",
       "    </tr>\n",
       "    <tr>\n",
       "      <th>2</th>\n",
       "      <td>2</td>\n",
       "      <td>OnePlus 12R (Iron Grey, 256 GB)</td>\n",
       "      <td>45370</td>\n",
       "      <td>16 GB RAM | 256 GB ROM17.22 cm (6.78 inch) Dis...</td>\n",
       "      <td>4.5</td>\n",
       "    </tr>\n",
       "    <tr>\n",
       "      <th>3</th>\n",
       "      <td>3</td>\n",
       "      <td>vivo V30 Pro 5G (Andaman Blue, 512 GB)</td>\n",
       "      <td>46999</td>\n",
       "      <td>12 GB RAM | 512 GB ROM17.22 cm (6.78 inch) Ful...</td>\n",
       "      <td>4.5</td>\n",
       "    </tr>\n",
       "    <tr>\n",
       "      <th>4</th>\n",
       "      <td>4</td>\n",
       "      <td>vivo V30 Pro 5G (Classic Black, 512 GB)</td>\n",
       "      <td>46999</td>\n",
       "      <td>12 GB RAM | 512 GB ROM17.22 cm (6.78 inch) Ful...</td>\n",
       "      <td>4.5</td>\n",
       "    </tr>\n",
       "  </tbody>\n",
       "</table>\n",
       "</div>"
      ],
      "text/plain": [
       "   SL no                             Product_Name  Product_Prices  \\\n",
       "0      0     OnePlus 11R 5G (Sonic Black, 256 GB)           37990   \n",
       "1      1          OnePlus 12R (Cool Blue, 256 GB)           45280   \n",
       "2      2          OnePlus 12R (Iron Grey, 256 GB)           45370   \n",
       "3      3   vivo V30 Pro 5G (Andaman Blue, 512 GB)           46999   \n",
       "4      4  vivo V30 Pro 5G (Classic Black, 512 GB)           46999   \n",
       "\n",
       "                               Product Descriptation  Product_Review  \n",
       "0  16 GB RAM | 256 GB ROM17.02 cm (6.7 inch) Disp...             4.5  \n",
       "1  16 GB RAM | 256 GB ROM17.22 cm (6.78 inch) Dis...             4.5  \n",
       "2  16 GB RAM | 256 GB ROM17.22 cm (6.78 inch) Dis...             4.5  \n",
       "3  12 GB RAM | 512 GB ROM17.22 cm (6.78 inch) Ful...             4.5  \n",
       "4  12 GB RAM | 512 GB ROM17.22 cm (6.78 inch) Ful...             4.5  "
      ]
     },
     "execution_count": 9,
     "metadata": {},
     "output_type": "execute_result"
    }
   ],
   "source": [
    "#prepare data\n",
    "import pandas as pd\n",
    "\n",
    "df=pd.read_csv(\"Mobile.csv\").loc[:400]\n",
    "df.head()"
   ]
  },
  {
   "cell_type": "code",
   "execution_count": 10,
   "metadata": {},
   "outputs": [
    {
     "data": {
      "text/plain": [
       "SL no  Product_Name  Product_Prices  Product Descriptation  Product_Review\n",
       "False  False         False           False                  False             401\n",
       "Name: count, dtype: int64"
      ]
     },
     "execution_count": 10,
     "metadata": {},
     "output_type": "execute_result"
    }
   ],
   "source": [
    "df.isna().value_counts()"
   ]
  },
  {
   "cell_type": "code",
   "execution_count": 12,
   "metadata": {},
   "outputs": [],
   "source": [
    "from sentence_transformers import SentenceTransformer\n",
    "model = SentenceTransformer(\"C:/Users/amnbh/Downloads/all-mpnet-base-v2\")"
   ]
  },
  {
   "cell_type": "code",
   "execution_count": 14,
   "metadata": {},
   "outputs": [
    {
     "data": {
      "text/html": [
       "<div>\n",
       "<style scoped>\n",
       "    .dataframe tbody tr th:only-of-type {\n",
       "        vertical-align: middle;\n",
       "    }\n",
       "\n",
       "    .dataframe tbody tr th {\n",
       "        vertical-align: top;\n",
       "    }\n",
       "\n",
       "    .dataframe thead th {\n",
       "        text-align: right;\n",
       "    }\n",
       "</style>\n",
       "<table border=\"1\" class=\"dataframe\">\n",
       "  <thead>\n",
       "    <tr style=\"text-align: right;\">\n",
       "      <th></th>\n",
       "      <th>SL no</th>\n",
       "      <th>Product_Name</th>\n",
       "      <th>Product_Prices</th>\n",
       "      <th>Product Descriptation</th>\n",
       "      <th>Product_Review</th>\n",
       "    </tr>\n",
       "  </thead>\n",
       "  <tbody>\n",
       "    <tr>\n",
       "      <th>0</th>\n",
       "      <td>0</td>\n",
       "      <td>OnePlus 11R 5G (Sonic Black, 256 GB)</td>\n",
       "      <td>37990</td>\n",
       "      <td>16 GB RAM | 256 GB ROM17.02 cm (6.7 inch) Disp...</td>\n",
       "      <td>4.5</td>\n",
       "    </tr>\n",
       "    <tr>\n",
       "      <th>1</th>\n",
       "      <td>1</td>\n",
       "      <td>OnePlus 12R (Cool Blue, 256 GB)</td>\n",
       "      <td>45280</td>\n",
       "      <td>16 GB RAM | 256 GB ROM17.22 cm (6.78 inch) Dis...</td>\n",
       "      <td>4.5</td>\n",
       "    </tr>\n",
       "    <tr>\n",
       "      <th>2</th>\n",
       "      <td>2</td>\n",
       "      <td>OnePlus 12R (Iron Grey, 256 GB)</td>\n",
       "      <td>45370</td>\n",
       "      <td>16 GB RAM | 256 GB ROM17.22 cm (6.78 inch) Dis...</td>\n",
       "      <td>4.5</td>\n",
       "    </tr>\n",
       "    <tr>\n",
       "      <th>3</th>\n",
       "      <td>3</td>\n",
       "      <td>vivo V30 Pro 5G (Andaman Blue, 512 GB)</td>\n",
       "      <td>46999</td>\n",
       "      <td>12 GB RAM | 512 GB ROM17.22 cm (6.78 inch) Ful...</td>\n",
       "      <td>4.5</td>\n",
       "    </tr>\n",
       "    <tr>\n",
       "      <th>4</th>\n",
       "      <td>4</td>\n",
       "      <td>vivo V30 Pro 5G (Classic Black, 512 GB)</td>\n",
       "      <td>46999</td>\n",
       "      <td>12 GB RAM | 512 GB ROM17.22 cm (6.78 inch) Ful...</td>\n",
       "      <td>4.5</td>\n",
       "    </tr>\n",
       "  </tbody>\n",
       "</table>\n",
       "</div>"
      ],
      "text/plain": [
       "   SL no                             Product_Name  Product_Prices  \\\n",
       "0      0     OnePlus 11R 5G (Sonic Black, 256 GB)           37990   \n",
       "1      1          OnePlus 12R (Cool Blue, 256 GB)           45280   \n",
       "2      2          OnePlus 12R (Iron Grey, 256 GB)           45370   \n",
       "3      3   vivo V30 Pro 5G (Andaman Blue, 512 GB)           46999   \n",
       "4      4  vivo V30 Pro 5G (Classic Black, 512 GB)           46999   \n",
       "\n",
       "                               Product Descriptation  Product_Review  \n",
       "0  16 GB RAM | 256 GB ROM17.02 cm (6.7 inch) Disp...             4.5  \n",
       "1  16 GB RAM | 256 GB ROM17.22 cm (6.78 inch) Dis...             4.5  \n",
       "2  16 GB RAM | 256 GB ROM17.22 cm (6.78 inch) Dis...             4.5  \n",
       "3  12 GB RAM | 512 GB ROM17.22 cm (6.78 inch) Ful...             4.5  \n",
       "4  12 GB RAM | 512 GB ROM17.22 cm (6.78 inch) Ful...             4.5  "
      ]
     },
     "execution_count": 14,
     "metadata": {},
     "output_type": "execute_result"
    }
   ],
   "source": [
    "df.head()"
   ]
  },
  {
   "cell_type": "code",
   "execution_count": 15,
   "metadata": {},
   "outputs": [
    {
     "data": {
      "text/html": [
       "<div>\n",
       "<style scoped>\n",
       "    .dataframe tbody tr th:only-of-type {\n",
       "        vertical-align: middle;\n",
       "    }\n",
       "\n",
       "    .dataframe tbody tr th {\n",
       "        vertical-align: top;\n",
       "    }\n",
       "\n",
       "    .dataframe thead th {\n",
       "        text-align: right;\n",
       "    }\n",
       "</style>\n",
       "<table border=\"1\" class=\"dataframe\">\n",
       "  <thead>\n",
       "    <tr style=\"text-align: right;\">\n",
       "      <th></th>\n",
       "      <th>SL no</th>\n",
       "      <th>Product_Name</th>\n",
       "      <th>Product_Prices</th>\n",
       "      <th>Product Descriptation</th>\n",
       "      <th>Product_Review</th>\n",
       "      <th>Prodesc</th>\n",
       "    </tr>\n",
       "  </thead>\n",
       "  <tbody>\n",
       "    <tr>\n",
       "      <th>0</th>\n",
       "      <td>0</td>\n",
       "      <td>OnePlus 11R 5G (Sonic Black, 256 GB)</td>\n",
       "      <td>37990</td>\n",
       "      <td>16 GB RAM | 256 GB ROM17.02 cm (6.7 inch) Disp...</td>\n",
       "      <td>4.5</td>\n",
       "      <td>OnePlus 11R 5G (Sonic Black, 256 GB) 16 GB RAM...</td>\n",
       "    </tr>\n",
       "    <tr>\n",
       "      <th>1</th>\n",
       "      <td>1</td>\n",
       "      <td>OnePlus 12R (Cool Blue, 256 GB)</td>\n",
       "      <td>45280</td>\n",
       "      <td>16 GB RAM | 256 GB ROM17.22 cm (6.78 inch) Dis...</td>\n",
       "      <td>4.5</td>\n",
       "      <td>OnePlus 12R (Cool Blue, 256 GB) 16 GB RAM | 25...</td>\n",
       "    </tr>\n",
       "    <tr>\n",
       "      <th>2</th>\n",
       "      <td>2</td>\n",
       "      <td>OnePlus 12R (Iron Grey, 256 GB)</td>\n",
       "      <td>45370</td>\n",
       "      <td>16 GB RAM | 256 GB ROM17.22 cm (6.78 inch) Dis...</td>\n",
       "      <td>4.5</td>\n",
       "      <td>OnePlus 12R (Iron Grey, 256 GB) 16 GB RAM | 25...</td>\n",
       "    </tr>\n",
       "    <tr>\n",
       "      <th>3</th>\n",
       "      <td>3</td>\n",
       "      <td>vivo V30 Pro 5G (Andaman Blue, 512 GB)</td>\n",
       "      <td>46999</td>\n",
       "      <td>12 GB RAM | 512 GB ROM17.22 cm (6.78 inch) Ful...</td>\n",
       "      <td>4.5</td>\n",
       "      <td>vivo V30 Pro 5G (Andaman Blue, 512 GB) 12 GB R...</td>\n",
       "    </tr>\n",
       "    <tr>\n",
       "      <th>4</th>\n",
       "      <td>4</td>\n",
       "      <td>vivo V30 Pro 5G (Classic Black, 512 GB)</td>\n",
       "      <td>46999</td>\n",
       "      <td>12 GB RAM | 512 GB ROM17.22 cm (6.78 inch) Ful...</td>\n",
       "      <td>4.5</td>\n",
       "      <td>vivo V30 Pro 5G (Classic Black, 512 GB) 12 GB ...</td>\n",
       "    </tr>\n",
       "  </tbody>\n",
       "</table>\n",
       "</div>"
      ],
      "text/plain": [
       "   SL no                             Product_Name  Product_Prices  \\\n",
       "0      0     OnePlus 11R 5G (Sonic Black, 256 GB)           37990   \n",
       "1      1          OnePlus 12R (Cool Blue, 256 GB)           45280   \n",
       "2      2          OnePlus 12R (Iron Grey, 256 GB)           45370   \n",
       "3      3   vivo V30 Pro 5G (Andaman Blue, 512 GB)           46999   \n",
       "4      4  vivo V30 Pro 5G (Classic Black, 512 GB)           46999   \n",
       "\n",
       "                               Product Descriptation  Product_Review  \\\n",
       "0  16 GB RAM | 256 GB ROM17.02 cm (6.7 inch) Disp...             4.5   \n",
       "1  16 GB RAM | 256 GB ROM17.22 cm (6.78 inch) Dis...             4.5   \n",
       "2  16 GB RAM | 256 GB ROM17.22 cm (6.78 inch) Dis...             4.5   \n",
       "3  12 GB RAM | 512 GB ROM17.22 cm (6.78 inch) Ful...             4.5   \n",
       "4  12 GB RAM | 512 GB ROM17.22 cm (6.78 inch) Ful...             4.5   \n",
       "\n",
       "                                             Prodesc  \n",
       "0  OnePlus 11R 5G (Sonic Black, 256 GB) 16 GB RAM...  \n",
       "1  OnePlus 12R (Cool Blue, 256 GB) 16 GB RAM | 25...  \n",
       "2  OnePlus 12R (Iron Grey, 256 GB) 16 GB RAM | 25...  \n",
       "3  vivo V30 Pro 5G (Andaman Blue, 512 GB) 12 GB R...  \n",
       "4  vivo V30 Pro 5G (Classic Black, 512 GB) 12 GB ...  "
      ]
     },
     "execution_count": 15,
     "metadata": {},
     "output_type": "execute_result"
    }
   ],
   "source": [
    "df[\"Prodesc\"] = df[\"Product_Name\"].astype(str) + \" \" + df[\"Product Descriptation\"]\n",
    "df.head()"
   ]
  },
  {
   "cell_type": "code",
   "execution_count": 20,
   "metadata": {},
   "outputs": [],
   "source": [
    "df[\"DescVec\"] = df[\"Prodesc\"].apply(lambda x: model.encode(x))"
   ]
  },
  {
   "cell_type": "code",
   "execution_count": 21,
   "metadata": {},
   "outputs": [
    {
     "data": {
      "text/html": [
       "<div>\n",
       "<style scoped>\n",
       "    .dataframe tbody tr th:only-of-type {\n",
       "        vertical-align: middle;\n",
       "    }\n",
       "\n",
       "    .dataframe tbody tr th {\n",
       "        vertical-align: top;\n",
       "    }\n",
       "\n",
       "    .dataframe thead th {\n",
       "        text-align: right;\n",
       "    }\n",
       "</style>\n",
       "<table border=\"1\" class=\"dataframe\">\n",
       "  <thead>\n",
       "    <tr style=\"text-align: right;\">\n",
       "      <th></th>\n",
       "      <th>SL no</th>\n",
       "      <th>Product_Name</th>\n",
       "      <th>Product_Prices</th>\n",
       "      <th>Product Descriptation</th>\n",
       "      <th>Product_Review</th>\n",
       "      <th>Prodesc</th>\n",
       "      <th>DescVec</th>\n",
       "    </tr>\n",
       "  </thead>\n",
       "  <tbody>\n",
       "    <tr>\n",
       "      <th>0</th>\n",
       "      <td>0</td>\n",
       "      <td>OnePlus 11R 5G (Sonic Black, 256 GB)</td>\n",
       "      <td>37990</td>\n",
       "      <td>16 GB RAM | 256 GB ROM17.02 cm (6.7 inch) Disp...</td>\n",
       "      <td>4.5</td>\n",
       "      <td>OnePlus 11R 5G (Sonic Black, 256 GB) 16 GB RAM...</td>\n",
       "      <td>[0.009519663, -0.00803341, 0.0010898384, 0.026...</td>\n",
       "    </tr>\n",
       "    <tr>\n",
       "      <th>1</th>\n",
       "      <td>1</td>\n",
       "      <td>OnePlus 12R (Cool Blue, 256 GB)</td>\n",
       "      <td>45280</td>\n",
       "      <td>16 GB RAM | 256 GB ROM17.22 cm (6.78 inch) Dis...</td>\n",
       "      <td>4.5</td>\n",
       "      <td>OnePlus 12R (Cool Blue, 256 GB) 16 GB RAM | 25...</td>\n",
       "      <td>[-0.0011325756, 0.0033229403, -0.0027136412, 0...</td>\n",
       "    </tr>\n",
       "    <tr>\n",
       "      <th>2</th>\n",
       "      <td>2</td>\n",
       "      <td>OnePlus 12R (Iron Grey, 256 GB)</td>\n",
       "      <td>45370</td>\n",
       "      <td>16 GB RAM | 256 GB ROM17.22 cm (6.78 inch) Dis...</td>\n",
       "      <td>4.5</td>\n",
       "      <td>OnePlus 12R (Iron Grey, 256 GB) 16 GB RAM | 25...</td>\n",
       "      <td>[0.005984726, 0.009525789, -0.0027006643, 0.01...</td>\n",
       "    </tr>\n",
       "    <tr>\n",
       "      <th>3</th>\n",
       "      <td>3</td>\n",
       "      <td>vivo V30 Pro 5G (Andaman Blue, 512 GB)</td>\n",
       "      <td>46999</td>\n",
       "      <td>12 GB RAM | 512 GB ROM17.22 cm (6.78 inch) Ful...</td>\n",
       "      <td>4.5</td>\n",
       "      <td>vivo V30 Pro 5G (Andaman Blue, 512 GB) 12 GB R...</td>\n",
       "      <td>[0.010560456, -0.0681835, -0.021684753, 0.0337...</td>\n",
       "    </tr>\n",
       "    <tr>\n",
       "      <th>4</th>\n",
       "      <td>4</td>\n",
       "      <td>vivo V30 Pro 5G (Classic Black, 512 GB)</td>\n",
       "      <td>46999</td>\n",
       "      <td>12 GB RAM | 512 GB ROM17.22 cm (6.78 inch) Ful...</td>\n",
       "      <td>4.5</td>\n",
       "      <td>vivo V30 Pro 5G (Classic Black, 512 GB) 12 GB ...</td>\n",
       "      <td>[0.011118344, -0.066530526, -0.015537828, 0.03...</td>\n",
       "    </tr>\n",
       "  </tbody>\n",
       "</table>\n",
       "</div>"
      ],
      "text/plain": [
       "   SL no                             Product_Name  Product_Prices  \\\n",
       "0      0     OnePlus 11R 5G (Sonic Black, 256 GB)           37990   \n",
       "1      1          OnePlus 12R (Cool Blue, 256 GB)           45280   \n",
       "2      2          OnePlus 12R (Iron Grey, 256 GB)           45370   \n",
       "3      3   vivo V30 Pro 5G (Andaman Blue, 512 GB)           46999   \n",
       "4      4  vivo V30 Pro 5G (Classic Black, 512 GB)           46999   \n",
       "\n",
       "                               Product Descriptation  Product_Review  \\\n",
       "0  16 GB RAM | 256 GB ROM17.02 cm (6.7 inch) Disp...             4.5   \n",
       "1  16 GB RAM | 256 GB ROM17.22 cm (6.78 inch) Dis...             4.5   \n",
       "2  16 GB RAM | 256 GB ROM17.22 cm (6.78 inch) Dis...             4.5   \n",
       "3  12 GB RAM | 512 GB ROM17.22 cm (6.78 inch) Ful...             4.5   \n",
       "4  12 GB RAM | 512 GB ROM17.22 cm (6.78 inch) Ful...             4.5   \n",
       "\n",
       "                                             Prodesc  \\\n",
       "0  OnePlus 11R 5G (Sonic Black, 256 GB) 16 GB RAM...   \n",
       "1  OnePlus 12R (Cool Blue, 256 GB) 16 GB RAM | 25...   \n",
       "2  OnePlus 12R (Iron Grey, 256 GB) 16 GB RAM | 25...   \n",
       "3  vivo V30 Pro 5G (Andaman Blue, 512 GB) 12 GB R...   \n",
       "4  vivo V30 Pro 5G (Classic Black, 512 GB) 12 GB ...   \n",
       "\n",
       "                                             DescVec  \n",
       "0  [0.009519663, -0.00803341, 0.0010898384, 0.026...  \n",
       "1  [-0.0011325756, 0.0033229403, -0.0027136412, 0...  \n",
       "2  [0.005984726, 0.009525789, -0.0027006643, 0.01...  \n",
       "3  [0.010560456, -0.0681835, -0.021684753, 0.0337...  \n",
       "4  [0.011118344, -0.066530526, -0.015537828, 0.03...  "
      ]
     },
     "execution_count": 21,
     "metadata": {},
     "output_type": "execute_result"
    }
   ],
   "source": [
    "df.head()"
   ]
  },
  {
   "cell_type": "code",
   "execution_count": 22,
   "metadata": {},
   "outputs": [
    {
     "data": {
      "text/plain": [
       "True"
      ]
     },
     "execution_count": 22,
     "metadata": {},
     "output_type": "execute_result"
    }
   ],
   "source": [
    "es.ping()"
   ]
  },
  {
   "cell_type": "code",
   "execution_count": 24,
   "metadata": {},
   "outputs": [
    {
     "data": {
      "text/plain": [
       "ObjectApiResponse({'acknowledged': True, 'shards_acknowledged': True, 'index': 'all_phones'})"
      ]
     },
     "execution_count": 24,
     "metadata": {},
     "output_type": "execute_result"
    }
   ],
   "source": [
    "from indexMap import indexMapping\n",
    "es.indices.create(index=\"all_phones\", mappings=indexMapping)"
   ]
  },
  {
   "cell_type": "code",
   "execution_count": 26,
   "metadata": {},
   "outputs": [],
   "source": [
    "rec_list = df.to_dict(\"records\")"
   ]
  },
  {
   "cell_type": "code",
   "execution_count": 27,
   "metadata": {},
   "outputs": [],
   "source": [
    "for record in rec_list:\n",
    "    try:\n",
    "        es.index(index=\"all_phones\", document=record, id=record[\"SL no\"])\n",
    "    except Exception as e:\n",
    "        print(e)"
   ]
  },
  {
   "cell_type": "code",
   "execution_count": 28,
   "metadata": {},
   "outputs": [
    {
     "data": {
      "text/plain": [
       "ObjectApiResponse({'count': 401, '_shards': {'total': 1, 'successful': 1, 'skipped': 0, 'failed': 0}})"
      ]
     },
     "execution_count": 28,
     "metadata": {},
     "output_type": "execute_result"
    }
   ],
   "source": [
    "es.count(index=\"all_phones\")"
   ]
  },
  {
   "cell_type": "code",
   "execution_count": 53,
   "metadata": {},
   "outputs": [],
   "source": [
    "input_kw = \"Blue Phones\"\n",
    "vec_of_kw = model.encode(input_kw)\n",
    "\n",
    "query = {\n",
    "    \"field\" : \"DescVec\",\n",
    "    \"query_vector\" : vec_of_kw,\n",
    "    \"k\" : 2,\n",
    "    \"num_candidates\" : 400,\n",
    "}\n"
   ]
  },
  {
   "cell_type": "code",
   "execution_count": 54,
   "metadata": {},
   "outputs": [
    {
     "name": "stderr",
     "output_type": "stream",
     "text": [
      "C:\\Users\\amnbh\\AppData\\Local\\Temp\\ipykernel_32540\\567988028.py:1: ElasticsearchWarning: The kNN search API has been replaced by the `knn` option in the search API.\n",
      "  res = es.knn_search(index=\"all_phones\", knn=query , source=[\"Product_Name\",\"Product Descriptation\"])\n"
     ]
    }
   ],
   "source": [
    "res = es.knn_search(index=\"all_phones\", knn=query , source=[\"Product_Name\",\"Product Descriptation\"])"
   ]
  },
  {
   "cell_type": "code",
   "execution_count": 55,
   "metadata": {},
   "outputs": [
    {
     "data": {
      "text/plain": [
       "[{'_index': 'all_phones',\n",
       "  '_id': '22',\n",
       "  '_score': 0.44739458,\n",
       "  '_source': {'Product_Name': 'vivo X90 (Breeze Blue, 256 GB)',\n",
       "   'Product Descriptation': '8 GB RAM | 256 GB ROM17.22 cm (6.78 inch) Full HD+ Display50MP + 12MP + 12MP | 32MP Front Camera4810 mAh BatteryDimensity 9200 Processor1 Year Handset and 6 Months Accessories'}},\n",
       " {'_index': 'all_phones',\n",
       "  '_id': '190',\n",
       "  '_score': 0.44739458,\n",
       "  '_source': {'Product_Name': 'vivo X90 (Breeze Blue, 256 GB)',\n",
       "   'Product Descriptation': '8 GB RAM | 256 GB ROM17.22 cm (6.78 inch) Full HD+ Display50MP + 12MP + 12MP | 32MP Front Camera4810 mAh BatteryDimensity 9200 Processor1 Year Handset and 6 Months Accessories'}}]"
      ]
     },
     "execution_count": 55,
     "metadata": {},
     "output_type": "execute_result"
    }
   ],
   "source": [
    "res[\"hits\"][\"hits\"]"
   ]
  },
  {
   "cell_type": "code",
   "execution_count": null,
   "metadata": {},
   "outputs": [],
   "source": []
  }
 ],
 "metadata": {
  "kernelspec": {
   "display_name": "envi",
   "language": "python",
   "name": "python3"
  },
  "language_info": {
   "codemirror_mode": {
    "name": "ipython",
    "version": 3
   },
   "file_extension": ".py",
   "mimetype": "text/x-python",
   "name": "python",
   "nbconvert_exporter": "python",
   "pygments_lexer": "ipython3",
   "version": "3.12.1"
  }
 },
 "nbformat": 4,
 "nbformat_minor": 2
}
